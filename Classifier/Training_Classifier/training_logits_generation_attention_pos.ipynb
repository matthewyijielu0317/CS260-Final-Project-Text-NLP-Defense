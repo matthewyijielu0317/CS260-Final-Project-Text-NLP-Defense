{
  "cells": [
    {
      "cell_type": "code",
      "execution_count": null,
      "id": "cc6629bb",
      "metadata": {
        "id": "cc6629bb"
      },
      "outputs": [],
      "source": [
        "import numpy as np\n",
        "import torch\n",
        "from torch.utils.data import Dataset, DataLoader\n",
        "import pandas as pd\n",
        "import os\n",
        "import time\n",
        "import importlib\n",
        "from copy import copy\n",
        "from tqdm import tqdm\n",
        "import argparse"
      ]
    },
    {
      "cell_type": "code",
      "execution_count": null,
      "id": "c344b06b",
      "metadata": {
        "colab": {
          "base_uri": "https://localhost:8080/"
        },
        "id": "c344b06b",
        "outputId": "55d48879-cd58-46b0-eece-1c6e5a4eb672"
      },
      "outputs": [
        {
          "output_type": "stream",
          "name": "stdout",
          "text": [
            "Using test configuration: rotten-tomatoes_alzantot_distilbert.csv\n"
          ]
        }
      ],
      "source": [
        "# # test config should be specified as an argument\n",
        "# parser = argparse.ArgumentParser(description='Generate logits for adversarial samples')\n",
        "# parser.add_argument('--test_config', type=str, help='Test configuration file')\n",
        "# args = parser.parse_args()\n",
        "# test_config = args.test_config # or 'imdb_pwws_distilbert.csv' or 'agnews_pwws_distilbert.csv'\n",
        "\n",
        "# Directly set the test_config variable\n",
        "# test_config = \"ag-news_pwws_distilbert.csv\"  # Replace with the desired configuration file\n",
        "test_config = \"rotten-tomatoes_alzantot_distilbert.csv\"\n",
        "# test_config = \"ag-news_textfooler_distilbert.csv\"\n",
        "\n",
        "# test_config = \"imdb_bae_distilbert.csv\"\n",
        "\n",
        "# The rest of your code remains the same\n",
        "print(\"Using test configuration:\", test_config)\n"
      ]
    },
    {
      "cell_type": "code",
      "execution_count": null,
      "id": "199b02b8",
      "metadata": {
        "colab": {
          "base_uri": "https://localhost:8080/"
        },
        "id": "199b02b8",
        "outputId": "1e6d3eca-6d54-42b4-f19a-e9317a91adcd"
      },
      "outputs": [
        {
          "output_type": "stream",
          "name": "stdout",
          "text": [
            "cuda\n"
          ]
        }
      ],
      "source": [
        "device = torch.device('cuda' if torch.cuda.is_available() else 'cpu')\n",
        "print(device)"
      ]
    },
    {
      "cell_type": "code",
      "execution_count": null,
      "id": "4cc6cee5",
      "metadata": {
        "id": "4cc6cee5"
      },
      "outputs": [],
      "source": [
        "# fix random seed for reproducibility\n",
        "seed = 42\n",
        "torch.manual_seed(seed)\n",
        "np.random.seed(seed)"
      ]
    },
    {
      "cell_type": "code",
      "execution_count": null,
      "id": "7eaec22b",
      "metadata": {
        "id": "7eaec22b"
      },
      "outputs": [],
      "source": [
        "# # Print available setups for testing\n",
        "# for i in os.listdir('../../Generating Adversarial Samples/Data'):\n",
        "#     if not i.startswith('.'): # Don't print system files\n",
        "#         print(i)"
      ]
    },
    {
      "cell_type": "code",
      "source": [],
      "metadata": {
        "id": "A10Jedxc7ddf"
      },
      "id": "A10Jedxc7ddf",
      "execution_count": null,
      "outputs": []
    },
    {
      "cell_type": "code",
      "execution_count": null,
      "id": "b3f5960a",
      "metadata": {
        "colab": {
          "base_uri": "https://localhost:8080/"
        },
        "id": "b3f5960a",
        "outputId": "d69c0b65-2134-40e0-e1cc-52a4ec8f057e"
      },
      "outputs": [
        {
          "output_type": "stream",
          "name": "stdout",
          "text": [
            "Model architecture: distilbert\n",
            "Dataset: rotten-tomatoes\n"
          ]
        }
      ],
      "source": [
        "# Obtain model from test config\n",
        "model_arch = test_config.replace(\".csv\", \"\").split('_')[-1]\n",
        "dataset = test_config.split('_')[0]\n",
        "print(\"Model architecture:\", model_arch)\n",
        "print(\"Dataset:\", dataset)"
      ]
    },
    {
      "cell_type": "code",
      "execution_count": null,
      "id": "e0489863",
      "metadata": {
        "id": "e0489863"
      },
      "outputs": [],
      "source": [
        "def load_textattack_local_model(model_arch, dataset):\n",
        "\n",
        "    def load_module_from_file(file_path):\n",
        "        \"\"\"Uses ``importlib`` to dynamically open a file and load an object from\n",
        "        it.\"\"\"\n",
        "        temp_module_name = f\"temp_{time.time()}\"\n",
        "\n",
        "        spec = importlib.util.spec_from_file_location(temp_module_name, file_path)\n",
        "        module = importlib.util.module_from_spec(spec)\n",
        "        spec.loader.exec_module(module)\n",
        "        return module\n",
        "\n",
        "    m = load_module_from_file(f'../{model_arch}_{dataset}_textattack.py')\n",
        "    model = getattr(m, 'model')\n",
        "\n",
        "    return model, None"
      ]
    },
    {
      "cell_type": "code",
      "execution_count": null,
      "id": "c56f8cbc",
      "metadata": {
        "id": "c56f8cbc"
      },
      "outputs": [],
      "source": [
        "# def load_hugging_face_model(model_arch, dataset):\n",
        "#     # Import the model used for generating the adversarial samples.\n",
        "#     # Correctly, set up imports, model and tokenizer depending on the model you generated the samples on.\n",
        "\n",
        "#     if model_arch == 'distilbert':\n",
        "#         from transformers import DistilBertConfig as config, DistilBertTokenizer as tokenizer, AutoModelForSequenceClassification as auto_model\n",
        "#     elif model_arch == 'bert':\n",
        "#         from transformers import BertConfig as config, BertTokenizer as tokenizer, AutoModelForSequenceClassification as auto_model\n",
        "\n",
        "#     # device = torch.device('cuda' if torch.cuda.is_available() else 'cpu')\n",
        "#     tokenizer = tokenizer.from_pretrained(f\"textattack/{model_arch}-base-uncased-{dataset}\")\n",
        "#     model = auto_model.from_pretrained(f\"textattack/{model_arch}-base-uncased-{dataset}\").to(device)\n",
        "\n",
        "#     return model, tokenizer"
      ]
    },
    {
      "cell_type": "code",
      "execution_count": null,
      "id": "b54af33d",
      "metadata": {
        "id": "b54af33d"
      },
      "outputs": [],
      "source": [
        "# Models available in hugging-face are executed differently from LSTM and CNN. Choose automatically the configuration and load model + tokenizer.\n",
        "# textattack_local_models = ['lstm', 'cnn']"
      ]
    },
    {
      "cell_type": "code",
      "execution_count": null,
      "id": "ff3716fd",
      "metadata": {
        "id": "ff3716fd"
      },
      "outputs": [],
      "source": [
        "# if model_arch in textattack_local_models:\n",
        "#     hugging_face_model = False\n",
        "#     model, tokenizer = load_textattack_local_model(model_arch, dataset)\n",
        "# else:\n",
        "#     hugging_face_model = True\n",
        "#     model, tokenizer = load_hugging_face_model(model_arch, dataset)"
      ]
    },
    {
      "cell_type": "code",
      "execution_count": null,
      "id": "kbQPOGSp1DVj",
      "metadata": {
        "colab": {
          "base_uri": "https://localhost:8080/",
          "height": 304,
          "referenced_widgets": [
            "1da1d74283014032baaee3d6a9e8f42b",
            "f54739f90c7a4c3bb14461ef0a395ac6",
            "4181e9cc323647eda068e02cbce73a58",
            "65980698f432434b975bf8b32aa4f171",
            "214fc58e7f404140ac5fc8c5238a1e3c",
            "48d913453a0340e19661bc7533453e63",
            "a2dd231f133d42f988d0c4271d7ac66c",
            "89eb06a2a8a944efa5fad74425149a6b",
            "8984cb280f6f4ff78e4e0557df596c95",
            "5f79553dbc654768b51a5ef815ea41a4",
            "4a85a63427094949a1202380abad1f0f",
            "3decfd22f7964c2796a994c253bd481a",
            "504b6b981b66475b9d49cb8d91f2eabf",
            "d85576c37d844fa9ad16b241cae25d3a",
            "31d654674e1640acb8be5d123a5d0a1d",
            "f0437bb0a4704a11887dbb54a8be6c29",
            "d963c967a2e8425f9eb49832c89fc0df",
            "dd47b947e6b74d45a6f2d45ad42cbf62",
            "87b4196e985c4d33b8318366aad150a0",
            "7556edcafaf44ea48979f06ce90a1533",
            "8929b29f47764f079ad03e570aab5f44",
            "ea86637b33d84e3a932c1664fea919e4",
            "6cb9686b505d40db91d837dfc8916cf2",
            "f327fa49361241bbab6606d0a16264d9",
            "0760171400cf4f658f831201473cd599",
            "26968b88de2542dca5de5d73d3155a11",
            "48df5b18855e46aa815db3bd0bf927ea",
            "ac0891cc357944f3970ab28078110b29",
            "ee87c766c9c9413f8896e73c511d24a6",
            "2bf2abc87a7f4d6daaca7fa7a7674ad7",
            "376a94d9ca7a490b95518d04b813dea5",
            "f5626af8012742d3adf8c2e37b1eefac",
            "f4ec4bf142c84600a14f0e0a66185c37",
            "4666c43be1464aae8eab54502d58ff95",
            "64e2960379a1499091d103562fc2f6bb",
            "ffb48209911648649445b7914f7b3d7b",
            "ca9d608fe7a24b7fbd7ca9141bbf77e4",
            "46d7af9b79a345b1a1386350e3c10231",
            "e5194cc933184d2caaa30cd340c4b772",
            "4daa2e7a1a3149e0a08cb7eebf8f7f09",
            "b327fb681c3849e785e4219c96660cde",
            "ab042128434f4dbd9fe1f180ad2595e5",
            "e9cfa1da8a22491d84ffef11a1dfca23",
            "f2e159b8a6044cd897d478067ed839cc",
            "35b23555c139446f9a3bde30227968a7",
            "0aaf897890404bd7a690692f0b16eb5b",
            "7a56dbd90e984a90a8d70f6288e7438c",
            "48284d06aaa3423699d4b2139237440c",
            "d0b42fafea00492d810a292df00db897",
            "9fad42a781d64a66bdb41dc6de9150cb",
            "17df95f805034fc3ad96eaf83ae68c27",
            "4e04e149f3bc4b13beddf5ec2c8bcf71",
            "14eeffec9fb549f9a2d59185811c3e15",
            "747931df95ad4ef4b5793b672ef99b6b",
            "752275294b664afcafb29c447b2eafdc"
          ]
        },
        "id": "kbQPOGSp1DVj",
        "outputId": "e13c4180-9829-4b7a-d559-3337417e3ee4"
      },
      "outputs": [
        {
          "output_type": "stream",
          "name": "stderr",
          "text": [
            "/usr/local/lib/python3.10/dist-packages/huggingface_hub/utils/_auth.py:94: UserWarning: \n",
            "The secret `HF_TOKEN` does not exist in your Colab secrets.\n",
            "To authenticate with the Hugging Face Hub, create a token in your settings tab (https://huggingface.co/settings/tokens), set it as secret in your Google Colab and restart your session.\n",
            "You will be able to reuse this secret in all of your notebooks.\n",
            "Please note that authentication is recommended but still optional to access public models or datasets.\n",
            "  warnings.warn(\n"
          ]
        },
        {
          "output_type": "display_data",
          "data": {
            "text/plain": [
              "tokenizer_config.json:   0%|          | 0.00/48.0 [00:00<?, ?B/s]"
            ],
            "application/vnd.jupyter.widget-view+json": {
              "version_major": 2,
              "version_minor": 0,
              "model_id": "1da1d74283014032baaee3d6a9e8f42b"
            }
          },
          "metadata": {}
        },
        {
          "output_type": "display_data",
          "data": {
            "text/plain": [
              "config.json:   0%|          | 0.00/496 [00:00<?, ?B/s]"
            ],
            "application/vnd.jupyter.widget-view+json": {
              "version_major": 2,
              "version_minor": 0,
              "model_id": "3decfd22f7964c2796a994c253bd481a"
            }
          },
          "metadata": {}
        },
        {
          "output_type": "display_data",
          "data": {
            "text/plain": [
              "vocab.txt:   0%|          | 0.00/232k [00:00<?, ?B/s]"
            ],
            "application/vnd.jupyter.widget-view+json": {
              "version_major": 2,
              "version_minor": 0,
              "model_id": "6cb9686b505d40db91d837dfc8916cf2"
            }
          },
          "metadata": {}
        },
        {
          "output_type": "display_data",
          "data": {
            "text/plain": [
              "special_tokens_map.json:   0%|          | 0.00/112 [00:00<?, ?B/s]"
            ],
            "application/vnd.jupyter.widget-view+json": {
              "version_major": 2,
              "version_minor": 0,
              "model_id": "4666c43be1464aae8eab54502d58ff95"
            }
          },
          "metadata": {}
        },
        {
          "output_type": "display_data",
          "data": {
            "text/plain": [
              "pytorch_model.bin:   0%|          | 0.00/268M [00:00<?, ?B/s]"
            ],
            "application/vnd.jupyter.widget-view+json": {
              "version_major": 2,
              "version_minor": 0,
              "model_id": "35b23555c139446f9a3bde30227968a7"
            }
          },
          "metadata": {}
        }
      ],
      "source": [
        "# Load model directly\n",
        "from transformers import AutoTokenizer, AutoModelForSequenceClassification\n",
        "\n",
        "\n",
        "tokenizer = AutoTokenizer.from_pretrained(f\"textattack/{model_arch}-base-uncased-{dataset}\")\n",
        "model = AutoModelForSequenceClassification.from_pretrained(f\"textattack/{model_arch}-base-uncased-{dataset}\").to(device)"
      ]
    },
    {
      "cell_type": "code",
      "execution_count": null,
      "id": "4d5e013a",
      "metadata": {
        "colab": {
          "base_uri": "https://localhost:8080/"
        },
        "id": "4d5e013a",
        "outputId": "15fd97de-56f1-4348-9b8a-7a1c0c6bb1c5"
      },
      "outputs": [
        {
          "output_type": "execute_result",
          "data": {
            "text/plain": [
              "(495, 9)"
            ]
          },
          "metadata": {},
          "execution_count": 12
        }
      ],
      "source": [
        "# # Read the desired csv file previously generated\n",
        "# df = pd.read_csv(f'../../Generating Adversarial Samples/Data/{test_config}', index_col=0)\n",
        "# df.shape\n",
        "\n",
        "df = pd.read_csv(test_config , index_col=0)\n",
        "df.shape"
      ]
    },
    {
      "cell_type": "code",
      "execution_count": null,
      "id": "e2d12288",
      "metadata": {
        "id": "e2d12288"
      },
      "outputs": [],
      "source": [
        "# Select first entries. Only 3000 will be used but we leave room for false adversarial sentences that will be filtered out later and test set. We reduce size because computations are expensive.\n",
        "# In real setup, the whole file was considered and fixed train and test sets were produced.\n",
        "df = df.head(7000)"
      ]
    },
    {
      "cell_type": "code",
      "execution_count": null,
      "id": "d251af94",
      "metadata": {
        "id": "d251af94"
      },
      "outputs": [],
      "source": [
        "# Create batches of non-adversarial sentences\n",
        "# For big models such as BERT, we must divide our input in smaller batches.\n",
        "n = 256 # Size of each batch.\n",
        "batches = [list(df.original_text.values)[i:i + n] for i in range(0, len(df.original_text.values), n)]"
      ]
    },
    {
      "cell_type": "code",
      "execution_count": null,
      "id": "1b28259d",
      "metadata": {
        "colab": {
          "base_uri": "https://localhost:8080/",
          "height": 53
        },
        "id": "1b28259d",
        "outputId": "41d2726b-2fa8-4633-c57c-532588a20617"
      },
      "outputs": [
        {
          "output_type": "execute_result",
          "data": {
            "text/plain": [
              "\"even when he's not at his most critically insightful , godard can still be smarter than any 50 other filmmakers still at work .\""
            ],
            "application/vnd.google.colaboratory.intrinsic+json": {
              "type": "string"
            }
          },
          "metadata": {},
          "execution_count": 15
        }
      ],
      "source": [
        "batches[0][0]"
      ]
    },
    {
      "cell_type": "code",
      "execution_count": null,
      "id": "77206116",
      "metadata": {
        "id": "77206116"
      },
      "outputs": [],
      "source": [
        "# Generate predictions for all non-adversarial sentences in our dataset\n",
        "outputs = []"
      ]
    },
    {
      "cell_type": "code",
      "execution_count": null,
      "id": "b55c0e29",
      "metadata": {
        "id": "b55c0e29"
      },
      "outputs": [],
      "source": [
        "hugging_face_model = True\n",
        "if hugging_face_model is True: # Use tokenizer and hugging face pipeline\n",
        "    for b in batches:\n",
        "        input = tokenizer(b, return_tensors=\"pt\", padding=True, truncation=True).to(device)\n",
        "        with torch.no_grad():\n",
        "            output = model(**input)\n",
        "            outputs.append(output.logits.cpu().numpy())\n",
        "            del input\n",
        "            torch.cuda.empty_cache()\n",
        "else: # Use local model by simply predicting without tokenization\n",
        "    for b in batches:\n",
        "        output = model(b)\n",
        "        outputs.append(output)"
      ]
    },
    {
      "cell_type": "code",
      "execution_count": null,
      "id": "2ea6b10a",
      "metadata": {
        "id": "2ea6b10a"
      },
      "outputs": [],
      "source": [
        "# Obtain non-adversarial predictions\n",
        "outputs_flatten = [item for sublist in outputs for item in sublist]\n",
        "predictions = [np.argmax(i) for i in outputs_flatten]"
      ]
    },
    {
      "cell_type": "code",
      "execution_count": null,
      "id": "dce03a41",
      "metadata": {
        "id": "dce03a41"
      },
      "outputs": [],
      "source": [
        "# Include prediction for these classes in our DataFrame\n",
        "df['original_class_predicted'] = predictions"
      ]
    },
    {
      "cell_type": "code",
      "execution_count": null,
      "id": "d4c3077d",
      "metadata": {
        "id": "d4c3077d"
      },
      "outputs": [],
      "source": [
        "# Repeat process for adversarial sentences\n",
        "n = 256\n",
        "batches = [list(df.adversarial_text.values)[i:i + n] for i in range(0, len(df.adversarial_text.values), n)]"
      ]
    },
    {
      "cell_type": "code",
      "execution_count": null,
      "id": "936eba3d",
      "metadata": {
        "id": "936eba3d"
      },
      "outputs": [],
      "source": [
        "# Generate predictions for all non-adversarial sentences in our dataset\n",
        "outputs = []"
      ]
    },
    {
      "cell_type": "code",
      "execution_count": null,
      "id": "02713457",
      "metadata": {
        "id": "02713457"
      },
      "outputs": [],
      "source": [
        "if hugging_face_model is True: # Use tokenizer and hugging face pipeline\n",
        "    for b in batches:\n",
        "        input = tokenizer(b, return_tensors=\"pt\", padding=True, truncation=True).to(device)\n",
        "        with torch.no_grad():\n",
        "            output = model(**input)\n",
        "            outputs.append(output.logits.cpu().numpy())\n",
        "            del input\n",
        "            torch.cuda.empty_cache()\n",
        "else: # Use local model by simply predicting without tokenization\n",
        "    for b in batches:\n",
        "        output = model(b)\n",
        "        outputs.append(output)"
      ]
    },
    {
      "cell_type": "code",
      "execution_count": null,
      "id": "a2116501",
      "metadata": {
        "id": "a2116501"
      },
      "outputs": [],
      "source": [
        "# Obtain adversarial predictions\n",
        "outputs_flatten = [item for sublist in outputs for item in sublist]\n",
        "predictions = [np.argmax(i) for i in outputs_flatten]"
      ]
    },
    {
      "cell_type": "code",
      "execution_count": null,
      "id": "5cf9552b",
      "metadata": {
        "id": "5cf9552b"
      },
      "outputs": [],
      "source": [
        "# Include prediction for these classes in our DataFrame\n",
        "df['adversarial_class_predicted'] = predictions"
      ]
    },
    {
      "cell_type": "code",
      "execution_count": null,
      "id": "0a368c11",
      "metadata": {
        "id": "0a368c11"
      },
      "outputs": [],
      "source": [
        "# Select only those sentences for which there was actually a change in the prediction\n",
        "correct = df[(df['original_class_predicted'] != df['adversarial_class_predicted'])]"
      ]
    },
    {
      "cell_type": "code",
      "execution_count": null,
      "id": "e755dd11",
      "metadata": {
        "id": "e755dd11"
      },
      "outputs": [],
      "source": [
        "# Update dataframe and keep only adversarial samples\n",
        "df = correct"
      ]
    },
    {
      "cell_type": "code",
      "execution_count": null,
      "id": "3e5f234c",
      "metadata": {
        "id": "3e5f234c"
      },
      "outputs": [],
      "source": [
        "original_samples = list(df.original_text.values)\n",
        "adversarial_samples = list(df.adversarial_text.values)\n"
      ]
    },
    {
      "cell_type": "code",
      "execution_count": null,
      "id": "21eb1d13",
      "metadata": {
        "id": "21eb1d13"
      },
      "outputs": [],
      "source": [
        "# Concatenate all original samples and their predictions\n",
        "x = np.concatenate((original_samples, adversarial_samples))\n",
        "y = np.concatenate((np.zeros(len(original_samples)), np.ones(len(adversarial_samples))))"
      ]
    },
    {
      "cell_type": "code",
      "execution_count": null,
      "id": "76be0ddc",
      "metadata": {
        "id": "76be0ddc"
      },
      "outputs": [],
      "source": [
        "########\n",
        "def obtain_logits_with_attention(samples, batch_size, model, tokenizer):\n",
        "    \"\"\"\n",
        "    For given samples and model, compute prediction logits and attention scores.\n",
        "    Input data is split into batches.\n",
        "    \"\"\"\n",
        "    # Ensure each batch is a flat list of sentences\n",
        "    batches = [samples[i:i + batch_size] for i in range(0, len(samples), batch_size)]\n",
        "    logits = []\n",
        "    attention_scores = []\n",
        "\n",
        "    for b in tqdm(batches):\n",
        "        # Ensure b is a list of strings\n",
        "        if isinstance(b, list) and all(isinstance(sentence, str) for sentence in b):\n",
        "            if hugging_face_model:\n",
        "                with torch.no_grad():\n",
        "                    inputs = tokenizer(b, return_tensors=\"pt\", padding=True, truncation=True).to(device)\n",
        "                    outputs = model(**inputs, output_attentions=True)\n",
        "                    logits.append(outputs.logits.cpu().numpy())\n",
        "                    # Extract and normalize attention scores\n",
        "                    attention = outputs.attentions[-1].mean(dim=1)  # Average over heads\n",
        "                    normalized_attention = attention[:, 0, :].cpu().numpy()  # CLS attention\n",
        "                    attention_scores.extend(normalized_attention)\n",
        "            else:\n",
        "                logits.append(model(b))\n",
        "        else:\n",
        "            raise ValueError(f\"Batch must be a list of strings. Found {type(b)}\")\n",
        "\n",
        "    return logits, attention_scores\n"
      ]
    },
    {
      "cell_type": "code",
      "execution_count": null,
      "id": "def1f976",
      "metadata": {
        "colab": {
          "base_uri": "https://localhost:8080/"
        },
        "id": "def1f976",
        "outputId": "0e75e71d-5727-438c-c07c-cac70febe11f"
      },
      "outputs": [
        {
          "output_type": "stream",
          "name": "stderr",
          "text": [
            "  0%|          | 0/2 [00:00<?, ?it/s]DistilBertSdpaAttention is used but `torch.nn.functional.scaled_dot_product_attention` does not support `output_attentions=True` or `head_mask`. Falling back to the manual attention implementation, but specifying the manual implementation will be required from Transformers version v5.0.0 onwards. This warning can be removed using the argument `attn_implementation=\"eager\"` when loading the model.\n",
            "100%|██████████| 2/2 [00:00<00:00,  7.92it/s]\n"
          ]
        }
      ],
      "source": [
        "# Compute logits for original sentences\n",
        "torch.cuda.empty_cache()\n",
        "batch_size = 256\n",
        "original_logits, original_attention = obtain_logits_with_attention(original_samples, batch_size, model, tokenizer)\n",
        "original_logits = np.concatenate(original_logits).reshape(-1, original_logits[0].shape[1])\n"
      ]
    },
    {
      "cell_type": "code",
      "execution_count": null,
      "id": "6692209f",
      "metadata": {
        "id": "6692209f"
      },
      "outputs": [],
      "source": [
        "torch.cuda.empty_cache()"
      ]
    },
    {
      "cell_type": "code",
      "execution_count": null,
      "id": "4b035e93",
      "metadata": {
        "colab": {
          "base_uri": "https://localhost:8080/"
        },
        "id": "4b035e93",
        "outputId": "c1cccbb2-e791-4210-f18a-230b39d0f995"
      },
      "outputs": [
        {
          "output_type": "stream",
          "name": "stderr",
          "text": [
            "100%|██████████| 2/2 [00:00<00:00,  9.96it/s]\n"
          ]
        }
      ],
      "source": [
        "# Compute logits for adversarial sentences\n",
        "batch_size = 256\n",
        "adversarial_logits, adversarial_attention = obtain_logits_with_attention(adversarial_samples, batch_size, model, tokenizer)\n",
        "adversarial_logits = np.concatenate(adversarial_logits).reshape(-1, adversarial_logits[0].shape[1])"
      ]
    },
    {
      "cell_type": "code",
      "execution_count": null,
      "id": "fc253280",
      "metadata": {
        "id": "fc253280"
      },
      "outputs": [],
      "source": [
        "torch.cuda.empty_cache()"
      ]
    },
    {
      "cell_type": "code",
      "source": [
        "# combine the logits and attention scores for both original and adversarial\n",
        "logits = np.concatenate((original_logits, adversarial_logits))\n",
        "attention_scores = original_attention + adversarial_attention"
      ],
      "metadata": {
        "id": "RxCmLvO6H_IS"
      },
      "id": "RxCmLvO6H_IS",
      "execution_count": null,
      "outputs": []
    },
    {
      "cell_type": "code",
      "source": [],
      "metadata": {
        "id": "HRtKe6cJIDer"
      },
      "id": "HRtKe6cJIDer",
      "execution_count": null,
      "outputs": []
    },
    {
      "cell_type": "code",
      "execution_count": null,
      "id": "0a5bf333",
      "metadata": {
        "id": "0a5bf333"
      },
      "outputs": [],
      "source": [
        "# Shuffle data\n",
        "import random\n",
        "c = list(zip(x, y, logits))\n",
        "random.shuffle(c)\n",
        "x, y, logits = zip(*c)"
      ]
    },
    {
      "cell_type": "code",
      "source": [],
      "metadata": {
        "id": "Zpa0TE1RFuWp"
      },
      "id": "Zpa0TE1RFuWp",
      "execution_count": null,
      "outputs": []
    },
    {
      "cell_type": "code",
      "source": [
        "import torch\n",
        "from nltk import pos_tag\n",
        "# from nltk.corpus import wordnet"
      ],
      "metadata": {
        "id": "rSNcrFclI26i"
      },
      "id": "rSNcrFclI26i",
      "execution_count": null,
      "outputs": []
    },
    {
      "cell_type": "code",
      "source": [
        "def compute_logits_difference_with_attention(x, logits, y, model, tokenizer, idx, attention_scores, max_sentence_size=512):\n",
        "    \"\"\"\n",
        "    Computes logits differences for a given sentence, incorporating attention scores.\n",
        "    \"\"\"\n",
        "    n_classes = len(logits[idx])\n",
        "    predicted_class = np.argmax(logits[idx])  # Predicted class for the sentence\n",
        "    class_logit = logits[idx][predicted_class]  # Store this original prediction logit\n",
        "\n",
        "    split_sentence = x[idx].split(' ')[:max_sentence_size]\n",
        "\n",
        "    # Retrieve corresponding attention scores for the sentence\n",
        "    attention = attention_scores[idx]\n",
        "\n",
        "    # Generate sentences with [UNK] tokens\n",
        "    new_sentences = []\n",
        "    for i, word in enumerate(split_sentence):\n",
        "        new_sentence = copy(split_sentence)\n",
        "        new_sentence[i] = '[UNK]'\n",
        "        new_sentence = ' '.join(new_sentence)\n",
        "        new_sentences.append(new_sentence)\n",
        "\n",
        "    # Batch process new sentences to compute logits\n",
        "    if len(new_sentences) > 200:\n",
        "        logits = []\n",
        "        batches = [new_sentences[i:i + 200] for i in range(0, len(new_sentences), 200)]\n",
        "        for b in batches:\n",
        "            batch = tokenizer(b, return_tensors=\"pt\", padding=True, truncation=True).to(device)\n",
        "            with torch.no_grad():\n",
        "                logits.append(model(**batch).logits)\n",
        "        logits = torch.cat(logits)\n",
        "    else:\n",
        "        batch = tokenizer(new_sentences, return_tensors=\"pt\", padding=True, truncation=True).to(device)\n",
        "        with torch.no_grad():\n",
        "            logits = model(**batch).logits\n",
        "\n",
        "    logits = logits.cpu().numpy()\n",
        "\n",
        "    # Compute saliency\n",
        "    saliency = (class_logit - logits[:, predicted_class]).reshape(-1, 1)\n",
        "\n",
        "    # Incorporate attention scores\n",
        "    weighted_saliency = saliency * attention[:len(saliency)].reshape(-1, 1)\n",
        "\n",
        "    # Return weighted saliency\n",
        "    return weighted_saliency, split_sentence, y[idx]"
      ],
      "metadata": {
        "id": "jIGX9vxqFcEG"
      },
      "id": "jIGX9vxqFcEG",
      "execution_count": null,
      "outputs": []
    },
    {
      "cell_type": "code",
      "source": [
        "def compute_logits_difference_with_pos_and_attention(x, logits, y, model, tokenizer, idx, attention_scores, target_size=512):\n",
        "    \"\"\"\n",
        "    Combines logits differences, attention scores, and POS tagging for weighted computation.\n",
        "    \"\"\"\n",
        "    # Compute logits differences and get tokens\n",
        "    data, tokens, y = compute_logits_difference_with_attention(\n",
        "        x, logits, y, model, tokenizer, idx, attention_scores, target_size\n",
        "    )\n",
        "\n",
        "    # Perform POS tagging\n",
        "    pos_tags = pos_tag(tokens)\n",
        "\n",
        "    # Assign POS weights\n",
        "    pos_weights = []\n",
        "    for token, tag in pos_tags:\n",
        "        if tag.startswith(('NN', 'VB', 'JJ', 'RB')):  # Nouns, verbs, adjectives, adverbs\n",
        "            pos_weights.append(1.0)  # Full weight for important POS\n",
        "        else:\n",
        "            pos_weights.append(0.2)  # Reduced weight for other POS\n",
        "\n",
        "    # Multiply saliency by POS weights\n",
        "    pos_weighted_saliency = data.flatten() * np.array(pos_weights[:len(data)])\n",
        "\n",
        "    # Pad or truncate data to target_size\n",
        "    padded_data = torch.zeros(target_size, 1).to(device)\n",
        "    size = min(target_size, len(pos_weighted_saliency))\n",
        "    padded_data[:size, :] = torch.tensor(pos_weighted_saliency[:size]).reshape(-1, 1).to(device)\n",
        "\n",
        "    return padded_data, y\n"
      ],
      "metadata": {
        "id": "TKzagwMXFhFJ"
      },
      "id": "TKzagwMXFhFJ",
      "execution_count": null,
      "outputs": []
    },
    {
      "cell_type": "code",
      "source": [
        "from torch.utils.data import Dataset, DataLoader\n",
        "import sys\n",
        "from torch.autograd import Variable"
      ],
      "metadata": {
        "id": "aO1EGySxI872"
      },
      "id": "aO1EGySxI872",
      "execution_count": null,
      "outputs": []
    },
    {
      "cell_type": "code",
      "source": [
        "class TextWithAttentionAndPOS(Dataset):\n",
        "    def __init__(self, x, logits, y, model, tokenizer, attention_scores, max_sentence_size=512):\n",
        "        self.logits = logits\n",
        "        self.y = y\n",
        "        self.x = x\n",
        "        self.model = model\n",
        "        self.tokenizer = tokenizer\n",
        "        self.attention_scores = attention_scores\n",
        "        self.max_sentence_size = max_sentence_size\n",
        "\n",
        "    def __len__(self):\n",
        "        return len(self.x)\n",
        "\n",
        "    def __getitem__(self, idx):\n",
        "        data, y = compute_logits_difference_with_pos_and_attention(\n",
        "            self.x, self.logits, self.y, self.model, self.tokenizer, idx, self.attention_scores, self.max_sentence_size\n",
        "        )\n",
        "        return data, y, self.x[idx]\n"
      ],
      "metadata": {
        "id": "J1TVVBqZFj-W"
      },
      "id": "J1TVVBqZFj-W",
      "execution_count": null,
      "outputs": []
    },
    {
      "cell_type": "code",
      "source": [
        "train_ds = TextWithAttentionAndPOS(x, logits, y, model, tokenizer, attention_scores)\n",
        "train_loader = DataLoader(dataset=train_ds, batch_size=256, shuffle=True)\n"
      ],
      "metadata": {
        "id": "pC6tFFDMFjB-"
      },
      "id": "pC6tFFDMFjB-",
      "execution_count": null,
      "outputs": []
    },
    {
      "cell_type": "code",
      "source": [
        "data_combined = pd.DataFrame(columns=[i for i in range(512)]+['y_label', 'sentence'])"
      ],
      "metadata": {
        "id": "5uZ64jlgJRJu"
      },
      "id": "5uZ64jlgJRJu",
      "execution_count": null,
      "outputs": []
    },
    {
      "cell_type": "code",
      "source": [
        "import nltk\n",
        "\n",
        "# Add NLTK data path\n",
        "nltk.data.path.append('/root/nltk_data')\n",
        "\n",
        "# Ensure the correct resource is downloaded\n",
        "nltk.download('averaged_perceptron_tagger_eng')\n",
        "\n",
        "# Generate logits difference by running the loader.\n",
        "for data, y_label, sentence in tqdm(train_loader):\n",
        "    for v in range(len(data)):\n",
        "        # Structure data and include in dataframe\n",
        "        row = np.append(data[v].cpu().numpy().reshape(1, -1), np.array([y_label[v].item(), sentence[v]]))\n",
        "        new_row = pd.DataFrame([row], columns=list(data_combined))\n",
        "        data_combined = pd.concat([data_combined, new_row], ignore_index=True)\n",
        "\n"
      ],
      "metadata": {
        "colab": {
          "base_uri": "https://localhost:8080/"
        },
        "id": "D0GD7aEGFiig",
        "outputId": "45630fe1-7504-4fc1-de12-7ecf3e123c48"
      },
      "id": "D0GD7aEGFiig",
      "execution_count": null,
      "outputs": [
        {
          "output_type": "stream",
          "name": "stderr",
          "text": [
            "[nltk_data] Downloading package averaged_perceptron_tagger_eng to\n",
            "[nltk_data]     /root/nltk_data...\n",
            "[nltk_data]   Package averaged_perceptron_tagger_eng is already up-to-\n",
            "[nltk_data]       date!\n",
            "100%|██████████| 4/4 [00:25<00:00,  6.33s/it]\n"
          ]
        }
      ]
    },
    {
      "cell_type": "code",
      "source": [
        "data_combined.to_csv(f'{test_config.replace(\".csv\", \"_logits_pos_attention.csv\")}', index=False)"
      ],
      "metadata": {
        "id": "P6LlM9O5K_0G"
      },
      "id": "P6LlM9O5K_0G",
      "execution_count": null,
      "outputs": []
    }
  ],
  "metadata": {
    "accelerator": "GPU",
    "colab": {
      "gpuType": "A100",
      "provenance": [],
      "machine_shape": "hm"
    },
    "jupytext": {
      "cell_metadata_filter": "-all",
      "main_language": "python",
      "notebook_metadata_filter": "-all"
    },
    "kernelspec": {
      "display_name": "Python 3",
      "name": "python3"
    },
    "language_info": {
      "name": "python"
    },
    "widgets": {
      "application/vnd.jupyter.widget-state+json": {
        "1da1d74283014032baaee3d6a9e8f42b": {
          "model_module": "@jupyter-widgets/controls",
          "model_name": "HBoxModel",
          "model_module_version": "1.5.0",
          "state": {
            "_dom_classes": [],
            "_model_module": "@jupyter-widgets/controls",
            "_model_module_version": "1.5.0",
            "_model_name": "HBoxModel",
            "_view_count": null,
            "_view_module": "@jupyter-widgets/controls",
            "_view_module_version": "1.5.0",
            "_view_name": "HBoxView",
            "box_style": "",
            "children": [
              "IPY_MODEL_f54739f90c7a4c3bb14461ef0a395ac6",
              "IPY_MODEL_4181e9cc323647eda068e02cbce73a58",
              "IPY_MODEL_65980698f432434b975bf8b32aa4f171"
            ],
            "layout": "IPY_MODEL_214fc58e7f404140ac5fc8c5238a1e3c"
          }
        },
        "f54739f90c7a4c3bb14461ef0a395ac6": {
          "model_module": "@jupyter-widgets/controls",
          "model_name": "HTMLModel",
          "model_module_version": "1.5.0",
          "state": {
            "_dom_classes": [],
            "_model_module": "@jupyter-widgets/controls",
            "_model_module_version": "1.5.0",
            "_model_name": "HTMLModel",
            "_view_count": null,
            "_view_module": "@jupyter-widgets/controls",
            "_view_module_version": "1.5.0",
            "_view_name": "HTMLView",
            "description": "",
            "description_tooltip": null,
            "layout": "IPY_MODEL_48d913453a0340e19661bc7533453e63",
            "placeholder": "​",
            "style": "IPY_MODEL_a2dd231f133d42f988d0c4271d7ac66c",
            "value": "tokenizer_config.json: 100%"
          }
        },
        "4181e9cc323647eda068e02cbce73a58": {
          "model_module": "@jupyter-widgets/controls",
          "model_name": "FloatProgressModel",
          "model_module_version": "1.5.0",
          "state": {
            "_dom_classes": [],
            "_model_module": "@jupyter-widgets/controls",
            "_model_module_version": "1.5.0",
            "_model_name": "FloatProgressModel",
            "_view_count": null,
            "_view_module": "@jupyter-widgets/controls",
            "_view_module_version": "1.5.0",
            "_view_name": "ProgressView",
            "bar_style": "success",
            "description": "",
            "description_tooltip": null,
            "layout": "IPY_MODEL_89eb06a2a8a944efa5fad74425149a6b",
            "max": 48,
            "min": 0,
            "orientation": "horizontal",
            "style": "IPY_MODEL_8984cb280f6f4ff78e4e0557df596c95",
            "value": 48
          }
        },
        "65980698f432434b975bf8b32aa4f171": {
          "model_module": "@jupyter-widgets/controls",
          "model_name": "HTMLModel",
          "model_module_version": "1.5.0",
          "state": {
            "_dom_classes": [],
            "_model_module": "@jupyter-widgets/controls",
            "_model_module_version": "1.5.0",
            "_model_name": "HTMLModel",
            "_view_count": null,
            "_view_module": "@jupyter-widgets/controls",
            "_view_module_version": "1.5.0",
            "_view_name": "HTMLView",
            "description": "",
            "description_tooltip": null,
            "layout": "IPY_MODEL_5f79553dbc654768b51a5ef815ea41a4",
            "placeholder": "​",
            "style": "IPY_MODEL_4a85a63427094949a1202380abad1f0f",
            "value": " 48.0/48.0 [00:00&lt;00:00, 3.32kB/s]"
          }
        },
        "214fc58e7f404140ac5fc8c5238a1e3c": {
          "model_module": "@jupyter-widgets/base",
          "model_name": "LayoutModel",
          "model_module_version": "1.2.0",
          "state": {
            "_model_module": "@jupyter-widgets/base",
            "_model_module_version": "1.2.0",
            "_model_name": "LayoutModel",
            "_view_count": null,
            "_view_module": "@jupyter-widgets/base",
            "_view_module_version": "1.2.0",
            "_view_name": "LayoutView",
            "align_content": null,
            "align_items": null,
            "align_self": null,
            "border": null,
            "bottom": null,
            "display": null,
            "flex": null,
            "flex_flow": null,
            "grid_area": null,
            "grid_auto_columns": null,
            "grid_auto_flow": null,
            "grid_auto_rows": null,
            "grid_column": null,
            "grid_gap": null,
            "grid_row": null,
            "grid_template_areas": null,
            "grid_template_columns": null,
            "grid_template_rows": null,
            "height": null,
            "justify_content": null,
            "justify_items": null,
            "left": null,
            "margin": null,
            "max_height": null,
            "max_width": null,
            "min_height": null,
            "min_width": null,
            "object_fit": null,
            "object_position": null,
            "order": null,
            "overflow": null,
            "overflow_x": null,
            "overflow_y": null,
            "padding": null,
            "right": null,
            "top": null,
            "visibility": null,
            "width": null
          }
        },
        "48d913453a0340e19661bc7533453e63": {
          "model_module": "@jupyter-widgets/base",
          "model_name": "LayoutModel",
          "model_module_version": "1.2.0",
          "state": {
            "_model_module": "@jupyter-widgets/base",
            "_model_module_version": "1.2.0",
            "_model_name": "LayoutModel",
            "_view_count": null,
            "_view_module": "@jupyter-widgets/base",
            "_view_module_version": "1.2.0",
            "_view_name": "LayoutView",
            "align_content": null,
            "align_items": null,
            "align_self": null,
            "border": null,
            "bottom": null,
            "display": null,
            "flex": null,
            "flex_flow": null,
            "grid_area": null,
            "grid_auto_columns": null,
            "grid_auto_flow": null,
            "grid_auto_rows": null,
            "grid_column": null,
            "grid_gap": null,
            "grid_row": null,
            "grid_template_areas": null,
            "grid_template_columns": null,
            "grid_template_rows": null,
            "height": null,
            "justify_content": null,
            "justify_items": null,
            "left": null,
            "margin": null,
            "max_height": null,
            "max_width": null,
            "min_height": null,
            "min_width": null,
            "object_fit": null,
            "object_position": null,
            "order": null,
            "overflow": null,
            "overflow_x": null,
            "overflow_y": null,
            "padding": null,
            "right": null,
            "top": null,
            "visibility": null,
            "width": null
          }
        },
        "a2dd231f133d42f988d0c4271d7ac66c": {
          "model_module": "@jupyter-widgets/controls",
          "model_name": "DescriptionStyleModel",
          "model_module_version": "1.5.0",
          "state": {
            "_model_module": "@jupyter-widgets/controls",
            "_model_module_version": "1.5.0",
            "_model_name": "DescriptionStyleModel",
            "_view_count": null,
            "_view_module": "@jupyter-widgets/base",
            "_view_module_version": "1.2.0",
            "_view_name": "StyleView",
            "description_width": ""
          }
        },
        "89eb06a2a8a944efa5fad74425149a6b": {
          "model_module": "@jupyter-widgets/base",
          "model_name": "LayoutModel",
          "model_module_version": "1.2.0",
          "state": {
            "_model_module": "@jupyter-widgets/base",
            "_model_module_version": "1.2.0",
            "_model_name": "LayoutModel",
            "_view_count": null,
            "_view_module": "@jupyter-widgets/base",
            "_view_module_version": "1.2.0",
            "_view_name": "LayoutView",
            "align_content": null,
            "align_items": null,
            "align_self": null,
            "border": null,
            "bottom": null,
            "display": null,
            "flex": null,
            "flex_flow": null,
            "grid_area": null,
            "grid_auto_columns": null,
            "grid_auto_flow": null,
            "grid_auto_rows": null,
            "grid_column": null,
            "grid_gap": null,
            "grid_row": null,
            "grid_template_areas": null,
            "grid_template_columns": null,
            "grid_template_rows": null,
            "height": null,
            "justify_content": null,
            "justify_items": null,
            "left": null,
            "margin": null,
            "max_height": null,
            "max_width": null,
            "min_height": null,
            "min_width": null,
            "object_fit": null,
            "object_position": null,
            "order": null,
            "overflow": null,
            "overflow_x": null,
            "overflow_y": null,
            "padding": null,
            "right": null,
            "top": null,
            "visibility": null,
            "width": null
          }
        },
        "8984cb280f6f4ff78e4e0557df596c95": {
          "model_module": "@jupyter-widgets/controls",
          "model_name": "ProgressStyleModel",
          "model_module_version": "1.5.0",
          "state": {
            "_model_module": "@jupyter-widgets/controls",
            "_model_module_version": "1.5.0",
            "_model_name": "ProgressStyleModel",
            "_view_count": null,
            "_view_module": "@jupyter-widgets/base",
            "_view_module_version": "1.2.0",
            "_view_name": "StyleView",
            "bar_color": null,
            "description_width": ""
          }
        },
        "5f79553dbc654768b51a5ef815ea41a4": {
          "model_module": "@jupyter-widgets/base",
          "model_name": "LayoutModel",
          "model_module_version": "1.2.0",
          "state": {
            "_model_module": "@jupyter-widgets/base",
            "_model_module_version": "1.2.0",
            "_model_name": "LayoutModel",
            "_view_count": null,
            "_view_module": "@jupyter-widgets/base",
            "_view_module_version": "1.2.0",
            "_view_name": "LayoutView",
            "align_content": null,
            "align_items": null,
            "align_self": null,
            "border": null,
            "bottom": null,
            "display": null,
            "flex": null,
            "flex_flow": null,
            "grid_area": null,
            "grid_auto_columns": null,
            "grid_auto_flow": null,
            "grid_auto_rows": null,
            "grid_column": null,
            "grid_gap": null,
            "grid_row": null,
            "grid_template_areas": null,
            "grid_template_columns": null,
            "grid_template_rows": null,
            "height": null,
            "justify_content": null,
            "justify_items": null,
            "left": null,
            "margin": null,
            "max_height": null,
            "max_width": null,
            "min_height": null,
            "min_width": null,
            "object_fit": null,
            "object_position": null,
            "order": null,
            "overflow": null,
            "overflow_x": null,
            "overflow_y": null,
            "padding": null,
            "right": null,
            "top": null,
            "visibility": null,
            "width": null
          }
        },
        "4a85a63427094949a1202380abad1f0f": {
          "model_module": "@jupyter-widgets/controls",
          "model_name": "DescriptionStyleModel",
          "model_module_version": "1.5.0",
          "state": {
            "_model_module": "@jupyter-widgets/controls",
            "_model_module_version": "1.5.0",
            "_model_name": "DescriptionStyleModel",
            "_view_count": null,
            "_view_module": "@jupyter-widgets/base",
            "_view_module_version": "1.2.0",
            "_view_name": "StyleView",
            "description_width": ""
          }
        },
        "3decfd22f7964c2796a994c253bd481a": {
          "model_module": "@jupyter-widgets/controls",
          "model_name": "HBoxModel",
          "model_module_version": "1.5.0",
          "state": {
            "_dom_classes": [],
            "_model_module": "@jupyter-widgets/controls",
            "_model_module_version": "1.5.0",
            "_model_name": "HBoxModel",
            "_view_count": null,
            "_view_module": "@jupyter-widgets/controls",
            "_view_module_version": "1.5.0",
            "_view_name": "HBoxView",
            "box_style": "",
            "children": [
              "IPY_MODEL_504b6b981b66475b9d49cb8d91f2eabf",
              "IPY_MODEL_d85576c37d844fa9ad16b241cae25d3a",
              "IPY_MODEL_31d654674e1640acb8be5d123a5d0a1d"
            ],
            "layout": "IPY_MODEL_f0437bb0a4704a11887dbb54a8be6c29"
          }
        },
        "504b6b981b66475b9d49cb8d91f2eabf": {
          "model_module": "@jupyter-widgets/controls",
          "model_name": "HTMLModel",
          "model_module_version": "1.5.0",
          "state": {
            "_dom_classes": [],
            "_model_module": "@jupyter-widgets/controls",
            "_model_module_version": "1.5.0",
            "_model_name": "HTMLModel",
            "_view_count": null,
            "_view_module": "@jupyter-widgets/controls",
            "_view_module_version": "1.5.0",
            "_view_name": "HTMLView",
            "description": "",
            "description_tooltip": null,
            "layout": "IPY_MODEL_d963c967a2e8425f9eb49832c89fc0df",
            "placeholder": "​",
            "style": "IPY_MODEL_dd47b947e6b74d45a6f2d45ad42cbf62",
            "value": "config.json: 100%"
          }
        },
        "d85576c37d844fa9ad16b241cae25d3a": {
          "model_module": "@jupyter-widgets/controls",
          "model_name": "FloatProgressModel",
          "model_module_version": "1.5.0",
          "state": {
            "_dom_classes": [],
            "_model_module": "@jupyter-widgets/controls",
            "_model_module_version": "1.5.0",
            "_model_name": "FloatProgressModel",
            "_view_count": null,
            "_view_module": "@jupyter-widgets/controls",
            "_view_module_version": "1.5.0",
            "_view_name": "ProgressView",
            "bar_style": "success",
            "description": "",
            "description_tooltip": null,
            "layout": "IPY_MODEL_87b4196e985c4d33b8318366aad150a0",
            "max": 496,
            "min": 0,
            "orientation": "horizontal",
            "style": "IPY_MODEL_7556edcafaf44ea48979f06ce90a1533",
            "value": 496
          }
        },
        "31d654674e1640acb8be5d123a5d0a1d": {
          "model_module": "@jupyter-widgets/controls",
          "model_name": "HTMLModel",
          "model_module_version": "1.5.0",
          "state": {
            "_dom_classes": [],
            "_model_module": "@jupyter-widgets/controls",
            "_model_module_version": "1.5.0",
            "_model_name": "HTMLModel",
            "_view_count": null,
            "_view_module": "@jupyter-widgets/controls",
            "_view_module_version": "1.5.0",
            "_view_name": "HTMLView",
            "description": "",
            "description_tooltip": null,
            "layout": "IPY_MODEL_8929b29f47764f079ad03e570aab5f44",
            "placeholder": "​",
            "style": "IPY_MODEL_ea86637b33d84e3a932c1664fea919e4",
            "value": " 496/496 [00:00&lt;00:00, 37.4kB/s]"
          }
        },
        "f0437bb0a4704a11887dbb54a8be6c29": {
          "model_module": "@jupyter-widgets/base",
          "model_name": "LayoutModel",
          "model_module_version": "1.2.0",
          "state": {
            "_model_module": "@jupyter-widgets/base",
            "_model_module_version": "1.2.0",
            "_model_name": "LayoutModel",
            "_view_count": null,
            "_view_module": "@jupyter-widgets/base",
            "_view_module_version": "1.2.0",
            "_view_name": "LayoutView",
            "align_content": null,
            "align_items": null,
            "align_self": null,
            "border": null,
            "bottom": null,
            "display": null,
            "flex": null,
            "flex_flow": null,
            "grid_area": null,
            "grid_auto_columns": null,
            "grid_auto_flow": null,
            "grid_auto_rows": null,
            "grid_column": null,
            "grid_gap": null,
            "grid_row": null,
            "grid_template_areas": null,
            "grid_template_columns": null,
            "grid_template_rows": null,
            "height": null,
            "justify_content": null,
            "justify_items": null,
            "left": null,
            "margin": null,
            "max_height": null,
            "max_width": null,
            "min_height": null,
            "min_width": null,
            "object_fit": null,
            "object_position": null,
            "order": null,
            "overflow": null,
            "overflow_x": null,
            "overflow_y": null,
            "padding": null,
            "right": null,
            "top": null,
            "visibility": null,
            "width": null
          }
        },
        "d963c967a2e8425f9eb49832c89fc0df": {
          "model_module": "@jupyter-widgets/base",
          "model_name": "LayoutModel",
          "model_module_version": "1.2.0",
          "state": {
            "_model_module": "@jupyter-widgets/base",
            "_model_module_version": "1.2.0",
            "_model_name": "LayoutModel",
            "_view_count": null,
            "_view_module": "@jupyter-widgets/base",
            "_view_module_version": "1.2.0",
            "_view_name": "LayoutView",
            "align_content": null,
            "align_items": null,
            "align_self": null,
            "border": null,
            "bottom": null,
            "display": null,
            "flex": null,
            "flex_flow": null,
            "grid_area": null,
            "grid_auto_columns": null,
            "grid_auto_flow": null,
            "grid_auto_rows": null,
            "grid_column": null,
            "grid_gap": null,
            "grid_row": null,
            "grid_template_areas": null,
            "grid_template_columns": null,
            "grid_template_rows": null,
            "height": null,
            "justify_content": null,
            "justify_items": null,
            "left": null,
            "margin": null,
            "max_height": null,
            "max_width": null,
            "min_height": null,
            "min_width": null,
            "object_fit": null,
            "object_position": null,
            "order": null,
            "overflow": null,
            "overflow_x": null,
            "overflow_y": null,
            "padding": null,
            "right": null,
            "top": null,
            "visibility": null,
            "width": null
          }
        },
        "dd47b947e6b74d45a6f2d45ad42cbf62": {
          "model_module": "@jupyter-widgets/controls",
          "model_name": "DescriptionStyleModel",
          "model_module_version": "1.5.0",
          "state": {
            "_model_module": "@jupyter-widgets/controls",
            "_model_module_version": "1.5.0",
            "_model_name": "DescriptionStyleModel",
            "_view_count": null,
            "_view_module": "@jupyter-widgets/base",
            "_view_module_version": "1.2.0",
            "_view_name": "StyleView",
            "description_width": ""
          }
        },
        "87b4196e985c4d33b8318366aad150a0": {
          "model_module": "@jupyter-widgets/base",
          "model_name": "LayoutModel",
          "model_module_version": "1.2.0",
          "state": {
            "_model_module": "@jupyter-widgets/base",
            "_model_module_version": "1.2.0",
            "_model_name": "LayoutModel",
            "_view_count": null,
            "_view_module": "@jupyter-widgets/base",
            "_view_module_version": "1.2.0",
            "_view_name": "LayoutView",
            "align_content": null,
            "align_items": null,
            "align_self": null,
            "border": null,
            "bottom": null,
            "display": null,
            "flex": null,
            "flex_flow": null,
            "grid_area": null,
            "grid_auto_columns": null,
            "grid_auto_flow": null,
            "grid_auto_rows": null,
            "grid_column": null,
            "grid_gap": null,
            "grid_row": null,
            "grid_template_areas": null,
            "grid_template_columns": null,
            "grid_template_rows": null,
            "height": null,
            "justify_content": null,
            "justify_items": null,
            "left": null,
            "margin": null,
            "max_height": null,
            "max_width": null,
            "min_height": null,
            "min_width": null,
            "object_fit": null,
            "object_position": null,
            "order": null,
            "overflow": null,
            "overflow_x": null,
            "overflow_y": null,
            "padding": null,
            "right": null,
            "top": null,
            "visibility": null,
            "width": null
          }
        },
        "7556edcafaf44ea48979f06ce90a1533": {
          "model_module": "@jupyter-widgets/controls",
          "model_name": "ProgressStyleModel",
          "model_module_version": "1.5.0",
          "state": {
            "_model_module": "@jupyter-widgets/controls",
            "_model_module_version": "1.5.0",
            "_model_name": "ProgressStyleModel",
            "_view_count": null,
            "_view_module": "@jupyter-widgets/base",
            "_view_module_version": "1.2.0",
            "_view_name": "StyleView",
            "bar_color": null,
            "description_width": ""
          }
        },
        "8929b29f47764f079ad03e570aab5f44": {
          "model_module": "@jupyter-widgets/base",
          "model_name": "LayoutModel",
          "model_module_version": "1.2.0",
          "state": {
            "_model_module": "@jupyter-widgets/base",
            "_model_module_version": "1.2.0",
            "_model_name": "LayoutModel",
            "_view_count": null,
            "_view_module": "@jupyter-widgets/base",
            "_view_module_version": "1.2.0",
            "_view_name": "LayoutView",
            "align_content": null,
            "align_items": null,
            "align_self": null,
            "border": null,
            "bottom": null,
            "display": null,
            "flex": null,
            "flex_flow": null,
            "grid_area": null,
            "grid_auto_columns": null,
            "grid_auto_flow": null,
            "grid_auto_rows": null,
            "grid_column": null,
            "grid_gap": null,
            "grid_row": null,
            "grid_template_areas": null,
            "grid_template_columns": null,
            "grid_template_rows": null,
            "height": null,
            "justify_content": null,
            "justify_items": null,
            "left": null,
            "margin": null,
            "max_height": null,
            "max_width": null,
            "min_height": null,
            "min_width": null,
            "object_fit": null,
            "object_position": null,
            "order": null,
            "overflow": null,
            "overflow_x": null,
            "overflow_y": null,
            "padding": null,
            "right": null,
            "top": null,
            "visibility": null,
            "width": null
          }
        },
        "ea86637b33d84e3a932c1664fea919e4": {
          "model_module": "@jupyter-widgets/controls",
          "model_name": "DescriptionStyleModel",
          "model_module_version": "1.5.0",
          "state": {
            "_model_module": "@jupyter-widgets/controls",
            "_model_module_version": "1.5.0",
            "_model_name": "DescriptionStyleModel",
            "_view_count": null,
            "_view_module": "@jupyter-widgets/base",
            "_view_module_version": "1.2.0",
            "_view_name": "StyleView",
            "description_width": ""
          }
        },
        "6cb9686b505d40db91d837dfc8916cf2": {
          "model_module": "@jupyter-widgets/controls",
          "model_name": "HBoxModel",
          "model_module_version": "1.5.0",
          "state": {
            "_dom_classes": [],
            "_model_module": "@jupyter-widgets/controls",
            "_model_module_version": "1.5.0",
            "_model_name": "HBoxModel",
            "_view_count": null,
            "_view_module": "@jupyter-widgets/controls",
            "_view_module_version": "1.5.0",
            "_view_name": "HBoxView",
            "box_style": "",
            "children": [
              "IPY_MODEL_f327fa49361241bbab6606d0a16264d9",
              "IPY_MODEL_0760171400cf4f658f831201473cd599",
              "IPY_MODEL_26968b88de2542dca5de5d73d3155a11"
            ],
            "layout": "IPY_MODEL_48df5b18855e46aa815db3bd0bf927ea"
          }
        },
        "f327fa49361241bbab6606d0a16264d9": {
          "model_module": "@jupyter-widgets/controls",
          "model_name": "HTMLModel",
          "model_module_version": "1.5.0",
          "state": {
            "_dom_classes": [],
            "_model_module": "@jupyter-widgets/controls",
            "_model_module_version": "1.5.0",
            "_model_name": "HTMLModel",
            "_view_count": null,
            "_view_module": "@jupyter-widgets/controls",
            "_view_module_version": "1.5.0",
            "_view_name": "HTMLView",
            "description": "",
            "description_tooltip": null,
            "layout": "IPY_MODEL_ac0891cc357944f3970ab28078110b29",
            "placeholder": "​",
            "style": "IPY_MODEL_ee87c766c9c9413f8896e73c511d24a6",
            "value": "vocab.txt: 100%"
          }
        },
        "0760171400cf4f658f831201473cd599": {
          "model_module": "@jupyter-widgets/controls",
          "model_name": "FloatProgressModel",
          "model_module_version": "1.5.0",
          "state": {
            "_dom_classes": [],
            "_model_module": "@jupyter-widgets/controls",
            "_model_module_version": "1.5.0",
            "_model_name": "FloatProgressModel",
            "_view_count": null,
            "_view_module": "@jupyter-widgets/controls",
            "_view_module_version": "1.5.0",
            "_view_name": "ProgressView",
            "bar_style": "success",
            "description": "",
            "description_tooltip": null,
            "layout": "IPY_MODEL_2bf2abc87a7f4d6daaca7fa7a7674ad7",
            "max": 231508,
            "min": 0,
            "orientation": "horizontal",
            "style": "IPY_MODEL_376a94d9ca7a490b95518d04b813dea5",
            "value": 231508
          }
        },
        "26968b88de2542dca5de5d73d3155a11": {
          "model_module": "@jupyter-widgets/controls",
          "model_name": "HTMLModel",
          "model_module_version": "1.5.0",
          "state": {
            "_dom_classes": [],
            "_model_module": "@jupyter-widgets/controls",
            "_model_module_version": "1.5.0",
            "_model_name": "HTMLModel",
            "_view_count": null,
            "_view_module": "@jupyter-widgets/controls",
            "_view_module_version": "1.5.0",
            "_view_name": "HTMLView",
            "description": "",
            "description_tooltip": null,
            "layout": "IPY_MODEL_f5626af8012742d3adf8c2e37b1eefac",
            "placeholder": "​",
            "style": "IPY_MODEL_f4ec4bf142c84600a14f0e0a66185c37",
            "value": " 232k/232k [00:00&lt;00:00, 2.56MB/s]"
          }
        },
        "48df5b18855e46aa815db3bd0bf927ea": {
          "model_module": "@jupyter-widgets/base",
          "model_name": "LayoutModel",
          "model_module_version": "1.2.0",
          "state": {
            "_model_module": "@jupyter-widgets/base",
            "_model_module_version": "1.2.0",
            "_model_name": "LayoutModel",
            "_view_count": null,
            "_view_module": "@jupyter-widgets/base",
            "_view_module_version": "1.2.0",
            "_view_name": "LayoutView",
            "align_content": null,
            "align_items": null,
            "align_self": null,
            "border": null,
            "bottom": null,
            "display": null,
            "flex": null,
            "flex_flow": null,
            "grid_area": null,
            "grid_auto_columns": null,
            "grid_auto_flow": null,
            "grid_auto_rows": null,
            "grid_column": null,
            "grid_gap": null,
            "grid_row": null,
            "grid_template_areas": null,
            "grid_template_columns": null,
            "grid_template_rows": null,
            "height": null,
            "justify_content": null,
            "justify_items": null,
            "left": null,
            "margin": null,
            "max_height": null,
            "max_width": null,
            "min_height": null,
            "min_width": null,
            "object_fit": null,
            "object_position": null,
            "order": null,
            "overflow": null,
            "overflow_x": null,
            "overflow_y": null,
            "padding": null,
            "right": null,
            "top": null,
            "visibility": null,
            "width": null
          }
        },
        "ac0891cc357944f3970ab28078110b29": {
          "model_module": "@jupyter-widgets/base",
          "model_name": "LayoutModel",
          "model_module_version": "1.2.0",
          "state": {
            "_model_module": "@jupyter-widgets/base",
            "_model_module_version": "1.2.0",
            "_model_name": "LayoutModel",
            "_view_count": null,
            "_view_module": "@jupyter-widgets/base",
            "_view_module_version": "1.2.0",
            "_view_name": "LayoutView",
            "align_content": null,
            "align_items": null,
            "align_self": null,
            "border": null,
            "bottom": null,
            "display": null,
            "flex": null,
            "flex_flow": null,
            "grid_area": null,
            "grid_auto_columns": null,
            "grid_auto_flow": null,
            "grid_auto_rows": null,
            "grid_column": null,
            "grid_gap": null,
            "grid_row": null,
            "grid_template_areas": null,
            "grid_template_columns": null,
            "grid_template_rows": null,
            "height": null,
            "justify_content": null,
            "justify_items": null,
            "left": null,
            "margin": null,
            "max_height": null,
            "max_width": null,
            "min_height": null,
            "min_width": null,
            "object_fit": null,
            "object_position": null,
            "order": null,
            "overflow": null,
            "overflow_x": null,
            "overflow_y": null,
            "padding": null,
            "right": null,
            "top": null,
            "visibility": null,
            "width": null
          }
        },
        "ee87c766c9c9413f8896e73c511d24a6": {
          "model_module": "@jupyter-widgets/controls",
          "model_name": "DescriptionStyleModel",
          "model_module_version": "1.5.0",
          "state": {
            "_model_module": "@jupyter-widgets/controls",
            "_model_module_version": "1.5.0",
            "_model_name": "DescriptionStyleModel",
            "_view_count": null,
            "_view_module": "@jupyter-widgets/base",
            "_view_module_version": "1.2.0",
            "_view_name": "StyleView",
            "description_width": ""
          }
        },
        "2bf2abc87a7f4d6daaca7fa7a7674ad7": {
          "model_module": "@jupyter-widgets/base",
          "model_name": "LayoutModel",
          "model_module_version": "1.2.0",
          "state": {
            "_model_module": "@jupyter-widgets/base",
            "_model_module_version": "1.2.0",
            "_model_name": "LayoutModel",
            "_view_count": null,
            "_view_module": "@jupyter-widgets/base",
            "_view_module_version": "1.2.0",
            "_view_name": "LayoutView",
            "align_content": null,
            "align_items": null,
            "align_self": null,
            "border": null,
            "bottom": null,
            "display": null,
            "flex": null,
            "flex_flow": null,
            "grid_area": null,
            "grid_auto_columns": null,
            "grid_auto_flow": null,
            "grid_auto_rows": null,
            "grid_column": null,
            "grid_gap": null,
            "grid_row": null,
            "grid_template_areas": null,
            "grid_template_columns": null,
            "grid_template_rows": null,
            "height": null,
            "justify_content": null,
            "justify_items": null,
            "left": null,
            "margin": null,
            "max_height": null,
            "max_width": null,
            "min_height": null,
            "min_width": null,
            "object_fit": null,
            "object_position": null,
            "order": null,
            "overflow": null,
            "overflow_x": null,
            "overflow_y": null,
            "padding": null,
            "right": null,
            "top": null,
            "visibility": null,
            "width": null
          }
        },
        "376a94d9ca7a490b95518d04b813dea5": {
          "model_module": "@jupyter-widgets/controls",
          "model_name": "ProgressStyleModel",
          "model_module_version": "1.5.0",
          "state": {
            "_model_module": "@jupyter-widgets/controls",
            "_model_module_version": "1.5.0",
            "_model_name": "ProgressStyleModel",
            "_view_count": null,
            "_view_module": "@jupyter-widgets/base",
            "_view_module_version": "1.2.0",
            "_view_name": "StyleView",
            "bar_color": null,
            "description_width": ""
          }
        },
        "f5626af8012742d3adf8c2e37b1eefac": {
          "model_module": "@jupyter-widgets/base",
          "model_name": "LayoutModel",
          "model_module_version": "1.2.0",
          "state": {
            "_model_module": "@jupyter-widgets/base",
            "_model_module_version": "1.2.0",
            "_model_name": "LayoutModel",
            "_view_count": null,
            "_view_module": "@jupyter-widgets/base",
            "_view_module_version": "1.2.0",
            "_view_name": "LayoutView",
            "align_content": null,
            "align_items": null,
            "align_self": null,
            "border": null,
            "bottom": null,
            "display": null,
            "flex": null,
            "flex_flow": null,
            "grid_area": null,
            "grid_auto_columns": null,
            "grid_auto_flow": null,
            "grid_auto_rows": null,
            "grid_column": null,
            "grid_gap": null,
            "grid_row": null,
            "grid_template_areas": null,
            "grid_template_columns": null,
            "grid_template_rows": null,
            "height": null,
            "justify_content": null,
            "justify_items": null,
            "left": null,
            "margin": null,
            "max_height": null,
            "max_width": null,
            "min_height": null,
            "min_width": null,
            "object_fit": null,
            "object_position": null,
            "order": null,
            "overflow": null,
            "overflow_x": null,
            "overflow_y": null,
            "padding": null,
            "right": null,
            "top": null,
            "visibility": null,
            "width": null
          }
        },
        "f4ec4bf142c84600a14f0e0a66185c37": {
          "model_module": "@jupyter-widgets/controls",
          "model_name": "DescriptionStyleModel",
          "model_module_version": "1.5.0",
          "state": {
            "_model_module": "@jupyter-widgets/controls",
            "_model_module_version": "1.5.0",
            "_model_name": "DescriptionStyleModel",
            "_view_count": null,
            "_view_module": "@jupyter-widgets/base",
            "_view_module_version": "1.2.0",
            "_view_name": "StyleView",
            "description_width": ""
          }
        },
        "4666c43be1464aae8eab54502d58ff95": {
          "model_module": "@jupyter-widgets/controls",
          "model_name": "HBoxModel",
          "model_module_version": "1.5.0",
          "state": {
            "_dom_classes": [],
            "_model_module": "@jupyter-widgets/controls",
            "_model_module_version": "1.5.0",
            "_model_name": "HBoxModel",
            "_view_count": null,
            "_view_module": "@jupyter-widgets/controls",
            "_view_module_version": "1.5.0",
            "_view_name": "HBoxView",
            "box_style": "",
            "children": [
              "IPY_MODEL_64e2960379a1499091d103562fc2f6bb",
              "IPY_MODEL_ffb48209911648649445b7914f7b3d7b",
              "IPY_MODEL_ca9d608fe7a24b7fbd7ca9141bbf77e4"
            ],
            "layout": "IPY_MODEL_46d7af9b79a345b1a1386350e3c10231"
          }
        },
        "64e2960379a1499091d103562fc2f6bb": {
          "model_module": "@jupyter-widgets/controls",
          "model_name": "HTMLModel",
          "model_module_version": "1.5.0",
          "state": {
            "_dom_classes": [],
            "_model_module": "@jupyter-widgets/controls",
            "_model_module_version": "1.5.0",
            "_model_name": "HTMLModel",
            "_view_count": null,
            "_view_module": "@jupyter-widgets/controls",
            "_view_module_version": "1.5.0",
            "_view_name": "HTMLView",
            "description": "",
            "description_tooltip": null,
            "layout": "IPY_MODEL_e5194cc933184d2caaa30cd340c4b772",
            "placeholder": "​",
            "style": "IPY_MODEL_4daa2e7a1a3149e0a08cb7eebf8f7f09",
            "value": "special_tokens_map.json: 100%"
          }
        },
        "ffb48209911648649445b7914f7b3d7b": {
          "model_module": "@jupyter-widgets/controls",
          "model_name": "FloatProgressModel",
          "model_module_version": "1.5.0",
          "state": {
            "_dom_classes": [],
            "_model_module": "@jupyter-widgets/controls",
            "_model_module_version": "1.5.0",
            "_model_name": "FloatProgressModel",
            "_view_count": null,
            "_view_module": "@jupyter-widgets/controls",
            "_view_module_version": "1.5.0",
            "_view_name": "ProgressView",
            "bar_style": "success",
            "description": "",
            "description_tooltip": null,
            "layout": "IPY_MODEL_b327fb681c3849e785e4219c96660cde",
            "max": 112,
            "min": 0,
            "orientation": "horizontal",
            "style": "IPY_MODEL_ab042128434f4dbd9fe1f180ad2595e5",
            "value": 112
          }
        },
        "ca9d608fe7a24b7fbd7ca9141bbf77e4": {
          "model_module": "@jupyter-widgets/controls",
          "model_name": "HTMLModel",
          "model_module_version": "1.5.0",
          "state": {
            "_dom_classes": [],
            "_model_module": "@jupyter-widgets/controls",
            "_model_module_version": "1.5.0",
            "_model_name": "HTMLModel",
            "_view_count": null,
            "_view_module": "@jupyter-widgets/controls",
            "_view_module_version": "1.5.0",
            "_view_name": "HTMLView",
            "description": "",
            "description_tooltip": null,
            "layout": "IPY_MODEL_e9cfa1da8a22491d84ffef11a1dfca23",
            "placeholder": "​",
            "style": "IPY_MODEL_f2e159b8a6044cd897d478067ed839cc",
            "value": " 112/112 [00:00&lt;00:00, 9.42kB/s]"
          }
        },
        "46d7af9b79a345b1a1386350e3c10231": {
          "model_module": "@jupyter-widgets/base",
          "model_name": "LayoutModel",
          "model_module_version": "1.2.0",
          "state": {
            "_model_module": "@jupyter-widgets/base",
            "_model_module_version": "1.2.0",
            "_model_name": "LayoutModel",
            "_view_count": null,
            "_view_module": "@jupyter-widgets/base",
            "_view_module_version": "1.2.0",
            "_view_name": "LayoutView",
            "align_content": null,
            "align_items": null,
            "align_self": null,
            "border": null,
            "bottom": null,
            "display": null,
            "flex": null,
            "flex_flow": null,
            "grid_area": null,
            "grid_auto_columns": null,
            "grid_auto_flow": null,
            "grid_auto_rows": null,
            "grid_column": null,
            "grid_gap": null,
            "grid_row": null,
            "grid_template_areas": null,
            "grid_template_columns": null,
            "grid_template_rows": null,
            "height": null,
            "justify_content": null,
            "justify_items": null,
            "left": null,
            "margin": null,
            "max_height": null,
            "max_width": null,
            "min_height": null,
            "min_width": null,
            "object_fit": null,
            "object_position": null,
            "order": null,
            "overflow": null,
            "overflow_x": null,
            "overflow_y": null,
            "padding": null,
            "right": null,
            "top": null,
            "visibility": null,
            "width": null
          }
        },
        "e5194cc933184d2caaa30cd340c4b772": {
          "model_module": "@jupyter-widgets/base",
          "model_name": "LayoutModel",
          "model_module_version": "1.2.0",
          "state": {
            "_model_module": "@jupyter-widgets/base",
            "_model_module_version": "1.2.0",
            "_model_name": "LayoutModel",
            "_view_count": null,
            "_view_module": "@jupyter-widgets/base",
            "_view_module_version": "1.2.0",
            "_view_name": "LayoutView",
            "align_content": null,
            "align_items": null,
            "align_self": null,
            "border": null,
            "bottom": null,
            "display": null,
            "flex": null,
            "flex_flow": null,
            "grid_area": null,
            "grid_auto_columns": null,
            "grid_auto_flow": null,
            "grid_auto_rows": null,
            "grid_column": null,
            "grid_gap": null,
            "grid_row": null,
            "grid_template_areas": null,
            "grid_template_columns": null,
            "grid_template_rows": null,
            "height": null,
            "justify_content": null,
            "justify_items": null,
            "left": null,
            "margin": null,
            "max_height": null,
            "max_width": null,
            "min_height": null,
            "min_width": null,
            "object_fit": null,
            "object_position": null,
            "order": null,
            "overflow": null,
            "overflow_x": null,
            "overflow_y": null,
            "padding": null,
            "right": null,
            "top": null,
            "visibility": null,
            "width": null
          }
        },
        "4daa2e7a1a3149e0a08cb7eebf8f7f09": {
          "model_module": "@jupyter-widgets/controls",
          "model_name": "DescriptionStyleModel",
          "model_module_version": "1.5.0",
          "state": {
            "_model_module": "@jupyter-widgets/controls",
            "_model_module_version": "1.5.0",
            "_model_name": "DescriptionStyleModel",
            "_view_count": null,
            "_view_module": "@jupyter-widgets/base",
            "_view_module_version": "1.2.0",
            "_view_name": "StyleView",
            "description_width": ""
          }
        },
        "b327fb681c3849e785e4219c96660cde": {
          "model_module": "@jupyter-widgets/base",
          "model_name": "LayoutModel",
          "model_module_version": "1.2.0",
          "state": {
            "_model_module": "@jupyter-widgets/base",
            "_model_module_version": "1.2.0",
            "_model_name": "LayoutModel",
            "_view_count": null,
            "_view_module": "@jupyter-widgets/base",
            "_view_module_version": "1.2.0",
            "_view_name": "LayoutView",
            "align_content": null,
            "align_items": null,
            "align_self": null,
            "border": null,
            "bottom": null,
            "display": null,
            "flex": null,
            "flex_flow": null,
            "grid_area": null,
            "grid_auto_columns": null,
            "grid_auto_flow": null,
            "grid_auto_rows": null,
            "grid_column": null,
            "grid_gap": null,
            "grid_row": null,
            "grid_template_areas": null,
            "grid_template_columns": null,
            "grid_template_rows": null,
            "height": null,
            "justify_content": null,
            "justify_items": null,
            "left": null,
            "margin": null,
            "max_height": null,
            "max_width": null,
            "min_height": null,
            "min_width": null,
            "object_fit": null,
            "object_position": null,
            "order": null,
            "overflow": null,
            "overflow_x": null,
            "overflow_y": null,
            "padding": null,
            "right": null,
            "top": null,
            "visibility": null,
            "width": null
          }
        },
        "ab042128434f4dbd9fe1f180ad2595e5": {
          "model_module": "@jupyter-widgets/controls",
          "model_name": "ProgressStyleModel",
          "model_module_version": "1.5.0",
          "state": {
            "_model_module": "@jupyter-widgets/controls",
            "_model_module_version": "1.5.0",
            "_model_name": "ProgressStyleModel",
            "_view_count": null,
            "_view_module": "@jupyter-widgets/base",
            "_view_module_version": "1.2.0",
            "_view_name": "StyleView",
            "bar_color": null,
            "description_width": ""
          }
        },
        "e9cfa1da8a22491d84ffef11a1dfca23": {
          "model_module": "@jupyter-widgets/base",
          "model_name": "LayoutModel",
          "model_module_version": "1.2.0",
          "state": {
            "_model_module": "@jupyter-widgets/base",
            "_model_module_version": "1.2.0",
            "_model_name": "LayoutModel",
            "_view_count": null,
            "_view_module": "@jupyter-widgets/base",
            "_view_module_version": "1.2.0",
            "_view_name": "LayoutView",
            "align_content": null,
            "align_items": null,
            "align_self": null,
            "border": null,
            "bottom": null,
            "display": null,
            "flex": null,
            "flex_flow": null,
            "grid_area": null,
            "grid_auto_columns": null,
            "grid_auto_flow": null,
            "grid_auto_rows": null,
            "grid_column": null,
            "grid_gap": null,
            "grid_row": null,
            "grid_template_areas": null,
            "grid_template_columns": null,
            "grid_template_rows": null,
            "height": null,
            "justify_content": null,
            "justify_items": null,
            "left": null,
            "margin": null,
            "max_height": null,
            "max_width": null,
            "min_height": null,
            "min_width": null,
            "object_fit": null,
            "object_position": null,
            "order": null,
            "overflow": null,
            "overflow_x": null,
            "overflow_y": null,
            "padding": null,
            "right": null,
            "top": null,
            "visibility": null,
            "width": null
          }
        },
        "f2e159b8a6044cd897d478067ed839cc": {
          "model_module": "@jupyter-widgets/controls",
          "model_name": "DescriptionStyleModel",
          "model_module_version": "1.5.0",
          "state": {
            "_model_module": "@jupyter-widgets/controls",
            "_model_module_version": "1.5.0",
            "_model_name": "DescriptionStyleModel",
            "_view_count": null,
            "_view_module": "@jupyter-widgets/base",
            "_view_module_version": "1.2.0",
            "_view_name": "StyleView",
            "description_width": ""
          }
        },
        "35b23555c139446f9a3bde30227968a7": {
          "model_module": "@jupyter-widgets/controls",
          "model_name": "HBoxModel",
          "model_module_version": "1.5.0",
          "state": {
            "_dom_classes": [],
            "_model_module": "@jupyter-widgets/controls",
            "_model_module_version": "1.5.0",
            "_model_name": "HBoxModel",
            "_view_count": null,
            "_view_module": "@jupyter-widgets/controls",
            "_view_module_version": "1.5.0",
            "_view_name": "HBoxView",
            "box_style": "",
            "children": [
              "IPY_MODEL_0aaf897890404bd7a690692f0b16eb5b",
              "IPY_MODEL_7a56dbd90e984a90a8d70f6288e7438c",
              "IPY_MODEL_48284d06aaa3423699d4b2139237440c"
            ],
            "layout": "IPY_MODEL_d0b42fafea00492d810a292df00db897"
          }
        },
        "0aaf897890404bd7a690692f0b16eb5b": {
          "model_module": "@jupyter-widgets/controls",
          "model_name": "HTMLModel",
          "model_module_version": "1.5.0",
          "state": {
            "_dom_classes": [],
            "_model_module": "@jupyter-widgets/controls",
            "_model_module_version": "1.5.0",
            "_model_name": "HTMLModel",
            "_view_count": null,
            "_view_module": "@jupyter-widgets/controls",
            "_view_module_version": "1.5.0",
            "_view_name": "HTMLView",
            "description": "",
            "description_tooltip": null,
            "layout": "IPY_MODEL_9fad42a781d64a66bdb41dc6de9150cb",
            "placeholder": "​",
            "style": "IPY_MODEL_17df95f805034fc3ad96eaf83ae68c27",
            "value": "pytorch_model.bin: 100%"
          }
        },
        "7a56dbd90e984a90a8d70f6288e7438c": {
          "model_module": "@jupyter-widgets/controls",
          "model_name": "FloatProgressModel",
          "model_module_version": "1.5.0",
          "state": {
            "_dom_classes": [],
            "_model_module": "@jupyter-widgets/controls",
            "_model_module_version": "1.5.0",
            "_model_name": "FloatProgressModel",
            "_view_count": null,
            "_view_module": "@jupyter-widgets/controls",
            "_view_module_version": "1.5.0",
            "_view_name": "ProgressView",
            "bar_style": "success",
            "description": "",
            "description_tooltip": null,
            "layout": "IPY_MODEL_4e04e149f3bc4b13beddf5ec2c8bcf71",
            "max": 267845150,
            "min": 0,
            "orientation": "horizontal",
            "style": "IPY_MODEL_14eeffec9fb549f9a2d59185811c3e15",
            "value": 267845150
          }
        },
        "48284d06aaa3423699d4b2139237440c": {
          "model_module": "@jupyter-widgets/controls",
          "model_name": "HTMLModel",
          "model_module_version": "1.5.0",
          "state": {
            "_dom_classes": [],
            "_model_module": "@jupyter-widgets/controls",
            "_model_module_version": "1.5.0",
            "_model_name": "HTMLModel",
            "_view_count": null,
            "_view_module": "@jupyter-widgets/controls",
            "_view_module_version": "1.5.0",
            "_view_name": "HTMLView",
            "description": "",
            "description_tooltip": null,
            "layout": "IPY_MODEL_747931df95ad4ef4b5793b672ef99b6b",
            "placeholder": "​",
            "style": "IPY_MODEL_752275294b664afcafb29c447b2eafdc",
            "value": " 268M/268M [00:03&lt;00:00, 82.5MB/s]"
          }
        },
        "d0b42fafea00492d810a292df00db897": {
          "model_module": "@jupyter-widgets/base",
          "model_name": "LayoutModel",
          "model_module_version": "1.2.0",
          "state": {
            "_model_module": "@jupyter-widgets/base",
            "_model_module_version": "1.2.0",
            "_model_name": "LayoutModel",
            "_view_count": null,
            "_view_module": "@jupyter-widgets/base",
            "_view_module_version": "1.2.0",
            "_view_name": "LayoutView",
            "align_content": null,
            "align_items": null,
            "align_self": null,
            "border": null,
            "bottom": null,
            "display": null,
            "flex": null,
            "flex_flow": null,
            "grid_area": null,
            "grid_auto_columns": null,
            "grid_auto_flow": null,
            "grid_auto_rows": null,
            "grid_column": null,
            "grid_gap": null,
            "grid_row": null,
            "grid_template_areas": null,
            "grid_template_columns": null,
            "grid_template_rows": null,
            "height": null,
            "justify_content": null,
            "justify_items": null,
            "left": null,
            "margin": null,
            "max_height": null,
            "max_width": null,
            "min_height": null,
            "min_width": null,
            "object_fit": null,
            "object_position": null,
            "order": null,
            "overflow": null,
            "overflow_x": null,
            "overflow_y": null,
            "padding": null,
            "right": null,
            "top": null,
            "visibility": null,
            "width": null
          }
        },
        "9fad42a781d64a66bdb41dc6de9150cb": {
          "model_module": "@jupyter-widgets/base",
          "model_name": "LayoutModel",
          "model_module_version": "1.2.0",
          "state": {
            "_model_module": "@jupyter-widgets/base",
            "_model_module_version": "1.2.0",
            "_model_name": "LayoutModel",
            "_view_count": null,
            "_view_module": "@jupyter-widgets/base",
            "_view_module_version": "1.2.0",
            "_view_name": "LayoutView",
            "align_content": null,
            "align_items": null,
            "align_self": null,
            "border": null,
            "bottom": null,
            "display": null,
            "flex": null,
            "flex_flow": null,
            "grid_area": null,
            "grid_auto_columns": null,
            "grid_auto_flow": null,
            "grid_auto_rows": null,
            "grid_column": null,
            "grid_gap": null,
            "grid_row": null,
            "grid_template_areas": null,
            "grid_template_columns": null,
            "grid_template_rows": null,
            "height": null,
            "justify_content": null,
            "justify_items": null,
            "left": null,
            "margin": null,
            "max_height": null,
            "max_width": null,
            "min_height": null,
            "min_width": null,
            "object_fit": null,
            "object_position": null,
            "order": null,
            "overflow": null,
            "overflow_x": null,
            "overflow_y": null,
            "padding": null,
            "right": null,
            "top": null,
            "visibility": null,
            "width": null
          }
        },
        "17df95f805034fc3ad96eaf83ae68c27": {
          "model_module": "@jupyter-widgets/controls",
          "model_name": "DescriptionStyleModel",
          "model_module_version": "1.5.0",
          "state": {
            "_model_module": "@jupyter-widgets/controls",
            "_model_module_version": "1.5.0",
            "_model_name": "DescriptionStyleModel",
            "_view_count": null,
            "_view_module": "@jupyter-widgets/base",
            "_view_module_version": "1.2.0",
            "_view_name": "StyleView",
            "description_width": ""
          }
        },
        "4e04e149f3bc4b13beddf5ec2c8bcf71": {
          "model_module": "@jupyter-widgets/base",
          "model_name": "LayoutModel",
          "model_module_version": "1.2.0",
          "state": {
            "_model_module": "@jupyter-widgets/base",
            "_model_module_version": "1.2.0",
            "_model_name": "LayoutModel",
            "_view_count": null,
            "_view_module": "@jupyter-widgets/base",
            "_view_module_version": "1.2.0",
            "_view_name": "LayoutView",
            "align_content": null,
            "align_items": null,
            "align_self": null,
            "border": null,
            "bottom": null,
            "display": null,
            "flex": null,
            "flex_flow": null,
            "grid_area": null,
            "grid_auto_columns": null,
            "grid_auto_flow": null,
            "grid_auto_rows": null,
            "grid_column": null,
            "grid_gap": null,
            "grid_row": null,
            "grid_template_areas": null,
            "grid_template_columns": null,
            "grid_template_rows": null,
            "height": null,
            "justify_content": null,
            "justify_items": null,
            "left": null,
            "margin": null,
            "max_height": null,
            "max_width": null,
            "min_height": null,
            "min_width": null,
            "object_fit": null,
            "object_position": null,
            "order": null,
            "overflow": null,
            "overflow_x": null,
            "overflow_y": null,
            "padding": null,
            "right": null,
            "top": null,
            "visibility": null,
            "width": null
          }
        },
        "14eeffec9fb549f9a2d59185811c3e15": {
          "model_module": "@jupyter-widgets/controls",
          "model_name": "ProgressStyleModel",
          "model_module_version": "1.5.0",
          "state": {
            "_model_module": "@jupyter-widgets/controls",
            "_model_module_version": "1.5.0",
            "_model_name": "ProgressStyleModel",
            "_view_count": null,
            "_view_module": "@jupyter-widgets/base",
            "_view_module_version": "1.2.0",
            "_view_name": "StyleView",
            "bar_color": null,
            "description_width": ""
          }
        },
        "747931df95ad4ef4b5793b672ef99b6b": {
          "model_module": "@jupyter-widgets/base",
          "model_name": "LayoutModel",
          "model_module_version": "1.2.0",
          "state": {
            "_model_module": "@jupyter-widgets/base",
            "_model_module_version": "1.2.0",
            "_model_name": "LayoutModel",
            "_view_count": null,
            "_view_module": "@jupyter-widgets/base",
            "_view_module_version": "1.2.0",
            "_view_name": "LayoutView",
            "align_content": null,
            "align_items": null,
            "align_self": null,
            "border": null,
            "bottom": null,
            "display": null,
            "flex": null,
            "flex_flow": null,
            "grid_area": null,
            "grid_auto_columns": null,
            "grid_auto_flow": null,
            "grid_auto_rows": null,
            "grid_column": null,
            "grid_gap": null,
            "grid_row": null,
            "grid_template_areas": null,
            "grid_template_columns": null,
            "grid_template_rows": null,
            "height": null,
            "justify_content": null,
            "justify_items": null,
            "left": null,
            "margin": null,
            "max_height": null,
            "max_width": null,
            "min_height": null,
            "min_width": null,
            "object_fit": null,
            "object_position": null,
            "order": null,
            "overflow": null,
            "overflow_x": null,
            "overflow_y": null,
            "padding": null,
            "right": null,
            "top": null,
            "visibility": null,
            "width": null
          }
        },
        "752275294b664afcafb29c447b2eafdc": {
          "model_module": "@jupyter-widgets/controls",
          "model_name": "DescriptionStyleModel",
          "model_module_version": "1.5.0",
          "state": {
            "_model_module": "@jupyter-widgets/controls",
            "_model_module_version": "1.5.0",
            "_model_name": "DescriptionStyleModel",
            "_view_count": null,
            "_view_module": "@jupyter-widgets/base",
            "_view_module_version": "1.2.0",
            "_view_name": "StyleView",
            "description_width": ""
          }
        }
      }
    }
  },
  "nbformat": 4,
  "nbformat_minor": 5
}